{
 "cells": [
  {
   "cell_type": "code",
   "execution_count": null,
   "metadata": {},
   "outputs": [],
   "source": [
    "import cv2\n",
    "import numpy as np\n",
    "import os\n",
    "import time\n",
    "# === DON'T DELETE ===\n",
    "from tensorflow.compat.v1 import ConfigProto\n",
    "from tensorflow.compat.v1 import InteractiveSession\n",
    "config = ConfigProto()\n",
    "config.gpu_options.allow_growth = True\n",
    "session = InteractiveSession(config=config)\n",
    "# === DON'T DELETE ===\n",
    "from keras.models import load_model"
   ]
  },
  {
   "cell_type": "code",
   "execution_count": null,
   "metadata": {},
   "outputs": [],
   "source": [
    "model = load_model('./FaceQnet_v1.h5')\n",
    "print('Load [FaceQnet_v1.h5] successfully!')"
   ]
  },
  {
   "cell_type": "code",
   "execution_count": null,
   "metadata": {},
   "outputs": [],
   "source": [
    "start = time.time()\n",
    "cnt = 0"
   ]
  },
  {
   "cell_type": "code",
   "execution_count": null,
   "metadata": {},
   "outputs": [],
   "source": [
    "lr_path = '/home/jiaheng/Desktop/GitHub/IJB-C-1/LR'\n",
    "f = open('lr_v1.txt', 'a')\n",
    "for dir_path, dirs, files in os.walk(lr_path):\n",
    "    # print(dir_path.split('/'))\n",
    "    if len(dir_path.split('/')) == 8:\n",
    "        cnt += 1\n",
    "        print('Time:', time.time() - start)\n",
    "        print('No.', cnt)\n",
    "        print(dir_path)\n",
    "        print('--------------------------------')\n",
    "    test_img_list = []\n",
    "    test_filename_list = []\n",
    "    for file_name in files:\n",
    "        img_path = os.path.join(dir_path, file_name)\n",
    "        img = cv2.imread(img_path, cv2.IMREAD_COLOR)\n",
    "        resized_img = cv2.resize(img, (224, 224))\n",
    "        test_img_list.append(resized_img)\n",
    "        test_filename_list.append(file_name)\n",
    "    if len(test_img_list) == 0:\n",
    "        continue\n",
    "    test_img_list = np.array(test_img_list, copy=False, dtype=np.float32)\n",
    "    scores = model.predict(test_img_list, batch_size=1, verbose=1)\n",
    "    highest_score_index = scores.argmax()\n",
    "    highest_score_filename = test_filename_list[highest_score_index]\n",
    "    id = dir_path.split('/')[-2]\n",
    "    video_id = dir_path.split('/')[-1]\n",
    "    if video_id == 'img':\n",
    "        continue\n",
    "    f.write(str(id) + ' ' + os.path.join(dir_path, highest_score_filename) + '\\n')\n",
    "f.close()"
   ]
  },
  {
   "cell_type": "code",
   "execution_count": null,
   "metadata": {},
   "outputs": [],
   "source": [
    "print('Extract the images with highest score successfully!')"
   ]
  }
 ],
 "metadata": {
  "kernelspec": {
   "display_name": "Python 3",
   "language": "python",
   "name": "python3"
  },
  "language_info": {
   "codemirror_mode": {
    "name": "ipython",
    "version": 3
   },
   "file_extension": ".py",
   "mimetype": "text/x-python",
   "name": "python",
   "nbconvert_exporter": "python",
   "pygments_lexer": "ipython3",
   "version": "3.7.9"
  }
 },
 "nbformat": 4,
 "nbformat_minor": 4
}
